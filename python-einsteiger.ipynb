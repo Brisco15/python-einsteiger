{
 "cells": [
  {
   "cell_type": "markdown",
   "metadata": {},
   "source": [
    "# Einstieg in die Programmierung mit Python\n",
    "\n",
    "*Rebecca Breu, Thomas Koch*\n",
    "\n",
    "\n",
    "## Warum Python?\n",
    "\n",
    "* Einfache, klare Syntax, daher leicht zu lernen\n",
    "* Komplette Programmiersprache mit vielen Bibliotheken, kann in vielen Feldern eingesetzt werden, z.B. Webentwicklung, wissenschafltiches Rechnen, Serveradministration, ...\n",
    "* Auf dem Raspberry Pi sehr verbreitet\n",
    "* Implementation für Mikroprozessoren existiert\n",
    "* ...\n",
    "\n",
    "\n",
    "In dieser Einführung benutzen wir **Python 3**. Immer noch sehr verbreitet ist Python 2, allerdings ist es nicht kompatibel zu Python 3. \n",
    "\n",
    "Benötigt werden: \n",
    "* Installation von [Python 3](https://www.python.org/downloads/). Auf den meisten Linux-Systemen (z.B. Raspbian) sind sowohl Python 2 als auch Python 3 standardmäßig installiert.\n",
    "* Ein Editor, z.B. Gedit, Atom, Sublime, ..."
   ]
  },
  {
   "cell_type": "markdown",
   "metadata": {},
   "source": [
    "## Teil 1: Erste Schritte in der Konsole\n",
    "\n",
    "Man kann Python direkt in der interaktiven Python-Konsole verwenden. \n",
    "\n",
    "* *Vorteil:* Man kann schnell und einfach Dinge ausprobieren\n",
    "* *Nachteil:* Code wird nicht dauerhaft gespeichert, kann nicht wiederverwendet werden\n",
    "\n",
    "**Aufgabe 1-1:** Starte ein Terminal-Fenster. Starte Python mit dem Befehl `python3`:\n",
    "\n",
    "```\n",
    "camptut@infcip10:~$ python3\n",
    "Python 3.4.3 (default, Oct 14 2015, 20:28:29) \n",
    "[GCC 4.8.4] on linux\n",
    "Type \"help\", \"copyright\", \"credits\" or \"license\" for more information.\n",
    ">>> \n",
    "```\n",
    "\n",
    "Die drei Pfeile `>>>` zeigen an, dass Python auf Eingabe wartet. Mit `exit()` oder `Steuerung + d` kannst du Python wieder beenden.\n"
   ]
  },
  {
   "cell_type": "markdown",
   "metadata": {},
   "source": [
    "**Aufgabe 1-2:** Python als Taschenrechner\n",
    "\n",
    "Probiere die vier Grundrechenarten aus: + (Addidion), - (Subtraktion), * (Multipikation) und / (Division)\n",
    "\n",
    "Zum Beispiel:"
   ]
  },
  {
   "cell_type": "code",
   "execution_count": 2,
   "metadata": {
    "collapsed": false
   },
   "outputs": [
    {
     "data": {
      "text/plain": [
       "14"
      ]
     },
     "execution_count": 2,
     "metadata": {},
     "output_type": "execute_result"
    }
   ],
   "source": [
    "13 + 4 - 3"
   ]
  },
  {
   "cell_type": "code",
   "execution_count": 3,
   "metadata": {
    "collapsed": false
   },
   "outputs": [
    {
     "data": {
      "text/plain": [
       "8.5"
      ]
     },
     "execution_count": 3,
     "metadata": {},
     "output_type": "execute_result"
    }
   ],
   "source": [
    "17 / 2"
   ]
  },
  {
   "cell_type": "markdown",
   "metadata": {},
   "source": [
    "Dezimalzahlen werden in Python mit einem Dezimalpunkt angegeben, nicht mit einem Dezimalkomma: `1.25`\n",
    "\n",
    "Du kannst auch Klammern verwenden:"
   ]
  },
  {
   "cell_type": "code",
   "execution_count": 5,
   "metadata": {
    "collapsed": false
   },
   "outputs": [
    {
     "data": {
      "text/plain": [
       "35.0"
      ]
     },
     "execution_count": 5,
     "metadata": {},
     "output_type": "execute_result"
    }
   ],
   "source": [
    "(4 + 10) * 2.5"
   ]
  },
  {
   "cell_type": "markdown",
   "metadata": {},
   "source": [
    "Wieviele Sekunden hat eine Stunde? Wieviele Sekunden hat ein Tag?"
   ]
  },
  {
   "cell_type": "markdown",
   "metadata": {},
   "source": [
    "** Aufgabe 1-3:** Variablen\n",
    "\n",
    "Variablen sind Namen für Dinge, die man wiederverwenden will. Man benzutzt ein Gleichheitszeichen, um Variablen zuzuweisen, zum Beispiel:"
   ]
  },
  {
   "cell_type": "code",
   "execution_count": 7,
   "metadata": {
    "collapsed": false
   },
   "outputs": [
    {
     "data": {
      "text/plain": [
       "48"
      ]
     },
     "execution_count": 7,
     "metadata": {},
     "output_type": "execute_result"
    }
   ],
   "source": [
    "laenge = 12\n",
    "breite = 4\n",
    "laenge * breite"
   ]
  },
  {
   "cell_type": "code",
   "execution_count": 10,
   "metadata": {
    "collapsed": false
   },
   "outputs": [
    {
     "name": "stdout",
     "output_type": "stream",
     "text": [
      "48\n"
     ]
    }
   ],
   "source": [
    "laenge = 12\n",
    "breite = 4\n",
    "flaeche = laenge * breite\n",
    "print(flaeche)"
   ]
  },
  {
   "cell_type": "markdown",
   "metadata": {},
   "source": [
    "``print`` (deutsch: drucken) ist eine Funktion, um etwas auf dem Bildschirm auszugeben. Wir werden sie später noch öfter brauchen."
   ]
  },
  {
   "cell_type": "markdown",
   "metadata": {},
   "source": [
    "**Aufgabe 1-4:** Strings\n",
    "\n",
    "Strings (deutsch: Zeichenketten) sind Texte, die du beim Programmieren verwenden kannst. Z.B.:"
   ]
  },
  {
   "cell_type": "code",
   "execution_count": 12,
   "metadata": {
    "collapsed": false
   },
   "outputs": [
    {
     "name": "stdout",
     "output_type": "stream",
     "text": [
      "Rebecca\n"
     ]
    }
   ],
   "source": [
    "name = \"Rebecca\"\n",
    "print(name)"
   ]
  },
  {
   "cell_type": "code",
   "execution_count": 13,
   "metadata": {
    "collapsed": false
   },
   "outputs": [
    {
     "name": "stdout",
     "output_type": "stream",
     "text": [
      "Thomas\n"
     ]
    }
   ],
   "source": [
    "name = 'Thomas'\n",
    "print(name)"
   ]
  },
  {
   "cell_type": "markdown",
   "metadata": {},
   "source": [
    "Man kann einfache (') oder doppelte (\") Anführunszeichen benutzen, um einen String zu erzeugen. Wichtig ist, dass am Anfang und Ende eines Strings die gleiche Art von Anführunszeichen benutzt."
   ]
  },
  {
   "cell_type": "code",
   "execution_count": 15,
   "metadata": {
    "collapsed": false
   },
   "outputs": [
    {
     "data": {
      "text/plain": [
       "'RebeccaBreu'"
      ]
     },
     "execution_count": 15,
     "metadata": {},
     "output_type": "execute_result"
    }
   ],
   "source": [
    "vorname = \"Rebecca\"\n",
    "nachname = \"Breu\"\n",
    "vorname + nachname"
   ]
  },
  {
   "cell_type": "markdown",
   "metadata": {},
   "source": [
    "Wie bekommnt man ein Leerzeichen zwischen Vor- und Nachname?"
   ]
  },
  {
   "cell_type": "markdown",
   "metadata": {},
   "source": [
    "**Aufgabe 1-5:** Fehler\n",
    "\n",
    "Beim Programmieren macht man immer wieder Fehler. Das ist überhaupt nicht schlimm, und Python versucht immer, zu erklären, was falsch ist. \n",
    "\n",
    "Verstehst du, was bei den untenstehenden Codestücken falsch ist?"
   ]
  },
  {
   "cell_type": "code",
   "execution_count": 26,
   "metadata": {
    "collapsed": false
   },
   "outputs": [
    {
     "ename": "ZeroDivisionError",
     "evalue": "division by zero",
     "output_type": "error",
     "traceback": [
      "\u001b[1;31m---------------------------------------------------------------------------\u001b[0m",
      "\u001b[1;31mZeroDivisionError\u001b[0m                         Traceback (most recent call last)",
      "\u001b[1;32m<ipython-input-26-3e699e72a4ab>\u001b[0m in \u001b[0;36m<module>\u001b[1;34m()\u001b[0m\n\u001b[1;32m----> 1\u001b[1;33m \u001b[1;36m10\u001b[0m \u001b[1;33m/\u001b[0m \u001b[1;36m0\u001b[0m\u001b[1;33m\u001b[0m\u001b[0m\n\u001b[0m",
      "\u001b[1;31mZeroDivisionError\u001b[0m: division by zero"
     ]
    }
   ],
   "source": [
    "10 / 0"
   ]
  },
  {
   "cell_type": "code",
   "execution_count": 28,
   "metadata": {
    "collapsed": false
   },
   "outputs": [
    {
     "ename": "TypeError",
     "evalue": "can't multiply sequence by non-int of type 'str'",
     "output_type": "error",
     "traceback": [
      "\u001b[1;31m---------------------------------------------------------------------------\u001b[0m",
      "\u001b[1;31mTypeError\u001b[0m                                 Traceback (most recent call last)",
      "\u001b[1;32m<ipython-input-28-0812ef918b26>\u001b[0m in \u001b[0;36m<module>\u001b[1;34m()\u001b[0m\n\u001b[0;32m      1\u001b[0m \u001b[0mvorname\u001b[0m \u001b[1;33m=\u001b[0m \u001b[1;34m\"Rebecca\"\u001b[0m\u001b[1;33m\u001b[0m\u001b[0m\n\u001b[0;32m      2\u001b[0m \u001b[0mnachname\u001b[0m \u001b[1;33m=\u001b[0m \u001b[1;34m\"Breu\"\u001b[0m\u001b[1;33m\u001b[0m\u001b[0m\n\u001b[1;32m----> 3\u001b[1;33m \u001b[0mvorname\u001b[0m \u001b[1;33m*\u001b[0m \u001b[0mnachname\u001b[0m\u001b[1;33m\u001b[0m\u001b[0m\n\u001b[0m",
      "\u001b[1;31mTypeError\u001b[0m: can't multiply sequence by non-int of type 'str'"
     ]
    }
   ],
   "source": [
    "vorname = \"Rebecca\"\n",
    "nachname = \"Breu\"\n",
    "vorname * nachname"
   ]
  },
  {
   "cell_type": "code",
   "execution_count": 31,
   "metadata": {
    "collapsed": false
   },
   "outputs": [
    {
     "ename": "NameError",
     "evalue": "name 'voname' is not defined",
     "output_type": "error",
     "traceback": [
      "\u001b[1;31m---------------------------------------------------------------------------\u001b[0m",
      "\u001b[1;31mNameError\u001b[0m                                 Traceback (most recent call last)",
      "\u001b[1;32m<ipython-input-31-a8833e6e0711>\u001b[0m in \u001b[0;36m<module>\u001b[1;34m()\u001b[0m\n\u001b[0;32m      1\u001b[0m \u001b[0mvorname\u001b[0m \u001b[1;33m=\u001b[0m \u001b[1;34m\"Rebecca\"\u001b[0m\u001b[1;33m\u001b[0m\u001b[0m\n\u001b[1;32m----> 2\u001b[1;33m \u001b[0mprint\u001b[0m\u001b[1;33m(\u001b[0m\u001b[0mvoname\u001b[0m\u001b[1;33m)\u001b[0m\u001b[1;33m\u001b[0m\u001b[0m\n\u001b[0m",
      "\u001b[1;31mNameError\u001b[0m: name 'voname' is not defined"
     ]
    }
   ],
   "source": [
    "vorname = \"Rebecca\"\n",
    "print(voname)"
   ]
  },
  {
   "cell_type": "markdown",
   "metadata": {},
   "source": [
    "## Teil 2: Programme schreiben\n",
    "\n",
    "Nun wollen wir Programme schreiben, die wir immer wieder aufrufen können, ohne sie jedes mal neu tippen zu müssen. Dazu schreiben wir unseren Python-Code in eine Datei.\n",
    "\n",
    "**Aufgabe 2-1** Das erste Programm\n",
    "\n",
    "Öffne den Editor **gedit**. Schreibe dein erstes Python-Programm:"
   ]
  },
  {
   "cell_type": "code",
   "execution_count": null,
   "metadata": {
    "collapsed": true
   },
   "outputs": [],
   "source": [
    "# Mein erstes Programm\n",
    "# Aufgabe 2-1\n",
    "\n",
    "summe = 7 + 12\n",
    "print(summe)"
   ]
  },
  {
   "cell_type": "markdown",
   "metadata": {},
   "source": [
    "Zeilen, die mit einer Raute (#) beginnen, werden von Python ignoriert. Du kannst hier Kommentare schreiben, die dir helfen, das Programm zu verstehen. Du kannst an beliebigen Stellen Leerzeilen lassen, um den Code übersichtlicher zu machen.\n",
    "\n",
    "Speichere die Datei unter dem Namen `programm1.py` in deinem Home-Verzeichnis. Python-Programme sollten immer die Datei-Endung `.py` haben. Dann öffne ein Linux-Terminal (ohne die interaktive Python-Schell) und führe dein Programm aus mit `python3 programm1.py`:\n",
    "\n",
    "```bash\n",
    "camptut@infcip10:~$ python3 programm1.py\n",
    "19\n",
    "```\n",
    "\n",
    "Alle Ausgaben, die du in der Kosole sehen möchtest, musst du mit ``print`` ausgeben.\n",
    "\n",
    "Ändere das Programm so ab, dass es deinen Namen ausgibt."
   ]
  },
  {
   "cell_type": "markdown",
   "metadata": {},
   "source": [
    "**Aufgabe 2-2** Der Addierer\n",
    "\n",
    "Hast du eine Idee, was das folgende Programm macht? Probiere es aus!"
   ]
  },
  {
   "cell_type": "code",
   "execution_count": null,
   "metadata": {
    "collapsed": true
   },
   "outputs": [],
   "source": [
    "from sys import stdin\n",
    "\n",
    "print(\"Gib eine Zahl ein:\")\n",
    "eingabe = int(stdin.readline())\n",
    "\n",
    "summe = eingabe + 7\n",
    "\n",
    "print(\"Die Summe ist:\", summe)"
   ]
  },
  {
   "cell_type": "markdown",
   "metadata": {},
   "source": [
    "In der ersten Zeile importieren wir `stdin` aus der Python-Bibliothek `sys`. Die meisten Funktionen von Python sind in Bibliotheken strukturiert und wir müssen sie importieren, um sie nutzen zu können. Die dritte Code-Zeile verwendet das importierte `stdin`, um eine Benutzereingabe zu lesen. (stdin steht für standard input, deutsch Standard-Eingabe.)\n",
    "\n",
    "Schreibe das Programm so um, dass der Nutzer zwei Zahlen eingeben kann, deren Summe dann ausgegeben wird."
   ]
  },
  {
   "cell_type": "markdown",
   "metadata": {},
   "source": [
    "**Aufgabe 2-3** Schleifen\n",
    "\n",
    "Mit einer for-Schleife können wir Python ganz einfach mitteilen, dass ein bestimmter Programmteil wiederholt werden soll. Das folgende Programm gibt alle Zahlen von 1 bis 10 aus:"
   ]
  },
  {
   "cell_type": "code",
   "execution_count": null,
   "metadata": {
    "collapsed": true
   },
   "outputs": [],
   "source": [
    "for i in range(1, 11):\n",
    "    print(\"Die aktuelle Zahl lautet:\")\n",
    "    print(i)\n",
    "print(\"Nun ist die Schleife zuende.\")"
   ]
  },
  {
   "cell_type": "markdown",
   "metadata": {},
   "source": [
    "`range(1, 11)` liefert die Zahlen von 1 bis 10. Die Anweisung `for` besagt, dass der nachfolgende Codeblock so oft wiederholt werden soll, wie die range-Funktion Zahlen liefert. Die aktuelle Zahl jedes Schleifendurchlaufs ist in der Variable `i` verfügbar. In Schleifen wird häufig der Variablenname `i` benutzt, du kannst aber auch einen anderen Namen wählen.\n",
    "\n",
    "Der Codeblock, der eingerückt ist (nimm am besten immer 4 Leerzeichen zur Einrückung), gehört zur Wiederholung der Codeschleife. Die letzte Zeile ist nicht mehr eingerückt und wird erst ausgeführt, nachdem alle 10 Schleifendurchläufe beendet sind.\n",
    "\n",
    "Ändere das Programm so ab, dass die Zahlen von 1 bis 20 ausgegeben werden.\n",
    "\n",
    "Ändere das Programm so ab, dass das Ein-Mal-Drei ausgegeben wird. (1, 3, 6, ..., 30).\n",
    "\n",
    "Ändere das Programm so ab, dass der Nutzer eine Zahl eingibt und dann das Ein-Mal-... dieser Zahl ausgegeben wird. Gibt der Nutzer eine 4 ein, wird das Ein-Mal-Vier ausgegeben usw."
   ]
  },
  {
   "cell_type": "markdown",
   "metadata": {},
   "source": [
    "**Aufgabe 2-4** Aufsummieren\n",
    "\n",
    "Was macht folgender Code? "
   ]
  },
  {
   "cell_type": "code",
   "execution_count": 35,
   "metadata": {
    "collapsed": false
   },
   "outputs": [
    {
     "name": "stdout",
     "output_type": "stream",
     "text": [
      "9\n"
     ]
    }
   ],
   "source": [
    "summe = 5\n",
    "summe = summe + 4\n",
    "print(summe)"
   ]
  },
  {
   "cell_type": "markdown",
   "metadata": {},
   "source": [
    "Die zweite Zeile sieht auf den ersten Blick merkwürdig aus. Hier nimmt Python zunächst die rechte Seite vom Gleichheitszeichen, also \"summe + 4\", rechnet das Ergebnis aus, also 9, und weist das Ergebnis wieder der Variablen `summe` zu. In anderen Worten: In der zweiten Zeile wird die Variable `summe` im 4 erhöht.\n",
    "\n",
    "Benutze nun eine solche Anweisung in einer for-Schleife, um alle Zahlen von 1 bis 100 aufzuaddieren. Als Ergebnis solltest du 5050 herausbekommen."
   ]
  },
  {
   "cell_type": "markdown",
   "metadata": {},
   "source": [
    "**Aufgabe 2-5** If-Bedingungen\n",
    "\n",
    "Mit if-Bedingungen kann man Code-Teile nur unter bestimmten Bedingungen ausführen lassen. Versuche, das folgende Programm zu verstehen:"
   ]
  },
  {
   "cell_type": "code",
   "execution_count": null,
   "metadata": {
    "collapsed": true
   },
   "outputs": [],
   "source": [
    "from sys import stdin\n",
    "\n",
    "print(\"Gib eine Zahl ein:\")\n",
    "eingabe = int(stdin.readline())\n",
    "\n",
    "if eingabe > 10:\n",
    "    print(\"Deine Zahl ist größer als 10\")\n",
    "\n",
    "if eingabe == 10:\n",
    "    print(\"Deine Zahl ist gleich 10\")\n",
    "\n",
    "if eingabe < 10:\n",
    "    print(\"Deine Zahl ist kleiner als 10\")"
   ]
  },
  {
   "cell_type": "markdown",
   "metadata": {},
   "source": [
    "Das, was nach dem `if` steht, ist die Bedingung, die erfüllt werden muss, damit der nachfolgende Codeblock ausgeführt wird. Wie schon bei den for-Schleifen wird durch Einrückung (vier Leerzeichen!) angegeben, was zum Codeblock dazugehört.\n",
    "\n",
    "Beachte, dass die Prüfung auf Gleichheit mit einem doppeltem Gleichzeichen erfolgt: `==`\n",
    "\n",
    "Probiere das obige Programm aus."
   ]
  },
  {
   "cell_type": "markdown",
   "metadata": {},
   "source": [
    "**Aufgabe 2-6** Zahlenraten\n",
    "\n",
    "Programmiere das Spiel Zahlenraten. Das Programm wählt eine zufällige Zahl zwischen 1 und 100, die der Spieler raten muss. Das Programm erwartet eine Eingabe vom Spieler und sagt, ob die eingegebe Zahl größer oder kleiner als die zu ratende Zahl ist. Ist die Zahl gleich, beendet das Programm, ansonsten darf der Spieler es noch einmal probieren.\n",
    "\n",
    "Erweitere dazu folgendes Programm:"
   ]
  },
  {
   "cell_type": "code",
   "execution_count": null,
   "metadata": {
    "collapsed": true
   },
   "outputs": [],
   "source": [
    "from random import randint\n",
    "from sys import exit, stdin\n",
    "\n",
    "# Eine Zufallszahl zwischen 1 und 100 generieren:\n",
    "zufall = randint(1, 100)\n",
    "\n",
    "# Eine Schleife, die unendlich lange läuft:\n",
    "while True:\n",
    "\n",
    "    ...\n",
    "\n",
    "    if ... == ...:\n",
    "        print(\"Das ist richtig!\")\n",
    "        # Das Programm beenden:\n",
    "        exit()\n",
    "\n",
    "    ..."
   ]
  },
  {
   "cell_type": "markdown",
   "metadata": {},
   "source": [
    "Wenn du das geschafft hast, kannst du auch mitzählen, wieviele Versuche der Spieler gebraucht hat und das am Ende ausgeben."
   ]
  },
  {
   "cell_type": "markdown",
   "metadata": {},
   "source": [
    "## Weiterführende Links\n",
    "\n",
    "* [Python 3-Tutorial](https://py-tutorial-de.readthedocs.io/de/python-3.3/) - Deutsch\n",
    "* [Python 3-Dokumentation](https://docs.python.org/3/library/index.html) - Englisch\n",
    "* [Code Combat](https://codecombat.com/) - mehrsprachig - Programmierlernspiel\n",
    "* [Python lernen auf dem Raspberry Pi](https://www.youtube.com/channel/UCRAvo5cQWyfog8nRzlf_jWg) - Englisch - Videoreihe\n",
    "* [Python Challenge](http://www.pythonchallenge.com/) Eine Serie von Programmieraufgaben in Form von Rätseln - Englisch. Eher für Leute, die schon die ersten Python-Erfahrungen gesammelt haben.\n",
    "* [PEP 8](https://www.python.org/dev/peps/pep-0008/) Styleguide für Python-Programme\n",
    "\n",
    "## Bücher\n",
    "\n",
    "* Raspberry Pi programmieren mit Python, Michael Weigend\n",
    "* Python kinderleicht!, Jason Briggs\n",
    "* Python für Kids, Gregor Lingl\n",
    "* Python 3: Das umfassende Handbuch, Johannes Ernesti und Peter Kaiser\n",
    "\n",
    "## Sonstiges\n",
    "\n",
    "* [IPython](https://ipython.org/): Interaktive Python-Umgebung, die wesentlich komfortabler ist als die normale Python-Umgebung.\n",
    "* [MicroPython](https://micropython.org/): Python-Implementierung für Microprozessoren.\n",
    "\n"
   ]
  }
 ],
 "metadata": {
  "kernelspec": {
   "display_name": "Python 3",
   "language": "python",
   "name": "python3"
  },
  "language_info": {
   "codemirror_mode": {
    "name": "ipython",
    "version": 3
   },
   "file_extension": ".py",
   "mimetype": "text/x-python",
   "name": "python",
   "nbconvert_exporter": "python",
   "pygments_lexer": "ipython3",
   "version": "3.4.3+"
  }
 },
 "nbformat": 4,
 "nbformat_minor": 0
}
